{
 "cells": [
  {
   "cell_type": "code",
   "execution_count": null,
   "metadata": {},
   "outputs": [],
   "source": [
    "import torch\n",
    "from torchvision import transforms\n",
    "from PIL import Image\n",
    "import os\n",
    "import pandas as pd\n",
    "import json"
   ]
  },
  {
   "cell_type": "code",
   "execution_count": null,
   "metadata": {},
   "outputs": [],
   "source": [
    "def read_in_data(dir_str, ref_json):\n",
    "\n",
    "    id_to_img = {}\n",
    "    df = pd.DataFrame(columns=['id', 'image_id', 'bbox', 'category_id', 'img'])\n",
    "\n",
    "    for line in ref_json[\"images\"]:\n",
    "        filename = line[\"file_name\"]\n",
    "        img = Image.open(dir_str + \"/\" + filename)\n",
    "        id_to_img[line[\"id\"]] = img\n",
    "\n",
    "    for box in ref_json[\"annotations\"]:\n",
    "        box_coords = box[\"bbox\"]\n",
    "        # im1 = im.crop((left, top, right, bottom))\n",
    "        # [lewy górny róg, szerokość, wysokość]\n",
    "        box_coords = [box_coords[0], box_coords[1], box_coords[0] + box_coords[2], box_coords[1] + box_coords[3]]\n",
    "        \n",
    "        image = id_to_img[box[\"image_id\"]].crop(box_coords)\n",
    "        if len(image.getbands()) > 3:\n",
    "            image_ = Image.new(\"RGB\", image.size, (255, 255, 255))\n",
    "            image_.paste(image, mask=image.split()[3]) \n",
    "        else:\n",
    "            image_ = image\n",
    "\n",
    "        box[\"img\"] = image_\n",
    "        df.loc[box[\"id\"]] = box\n",
    "\n",
    "\n",
    "    df.set_index(\"id\")\n",
    "    return df"
   ]
  },
  {
   "cell_type": "code",
   "execution_count": null,
   "metadata": {},
   "outputs": [],
   "source": [
    "with open(\"../public_dataset/reference_images_part1.json\") as f:\n",
    "    ref_json = json.load(f)\n",
    "\n",
    "dir_str = \"../public_dataset/reference_images_part1\"\n",
    "df = read_in_data(dir_str, ref_json)\n",
    "df.head()"
   ]
  },
  {
   "cell_type": "code",
   "execution_count": null,
   "metadata": {},
   "outputs": [],
   "source": []
  },
  {
   "cell_type": "code",
   "execution_count": null,
   "metadata": {},
   "outputs": [],
   "source": []
  },
  {
   "cell_type": "code",
   "execution_count": null,
   "metadata": {},
   "outputs": [],
   "source": []
  }
 ],
 "metadata": {
  "kernelspec": {
   "display_name": "Python 3",
   "language": "python",
   "name": "python3"
  },
  "language_info": {
   "codemirror_mode": {
    "name": "ipython",
    "version": 3
   },
   "file_extension": ".py",
   "mimetype": "text/x-python",
   "name": "python",
   "nbconvert_exporter": "python",
   "pygments_lexer": "ipython3",
   "version": "3.8.5"
  }
 },
 "nbformat": 4,
 "nbformat_minor": 5
}
