{
 "cells": [
  {
   "cell_type": "code",
   "execution_count": 1,
   "id": "a15a22d9-1249-4427-bbd2-e96b75ba559e",
   "metadata": {},
   "outputs": [
    {
     "name": "stdout",
     "output_type": "stream",
     "text": [
      "torch.Size([1, 384])\n"
     ]
    }
   ],
   "source": [
    "from model import ImageEmbeddingWithTransofmers\n",
    "import json\n",
    "import torch\n",
    "from ipynb.fs.full.read_in_data import read_in_data\n",
    "import pandas as pd\n",
    "from validation import predict_knn"
   ]
  },
  {
   "cell_type": "code",
   "execution_count": 2,
   "id": "aef0bc4b-ee1c-4391-bc19-43ca99c532e3",
   "metadata": {},
   "outputs": [],
   "source": [
    "DEVICE = 'cuda' if torch.cuda.is_available() else 'cpu'\n"
   ]
  },
  {
   "cell_type": "code",
   "execution_count": 3,
   "id": "c58cc652-e055-4c0b-9ba5-223ec956ef21",
   "metadata": {},
   "outputs": [],
   "source": [
    "model = ImageEmbeddingWithTransofmers(128, freeze_backbone=True, device=DEVICE)"
   ]
  },
  {
   "cell_type": "code",
   "execution_count": 4,
   "id": "8128bcd0-6abd-4fc5-98e2-efc80be8908a",
   "metadata": {},
   "outputs": [],
   "source": [
    "with open(\"../public_evaluation/images_part1_test_public.json\") as f:\n",
    "    ref_json = json.load(f)\n",
    "\n",
    "dir_str = \"../public_evaluation/images_part1_test\"\n",
    "test_data_1 = read_in_data(dir_str, ref_json)\n",
    "\n",
    "with open(\"../public_dataset/reference_images_part1.json\") as f:\n",
    "    ref_json = json.load(f)\n",
    "\n",
    "dir_str = \"../public_dataset/reference_images_part1\"\n",
    "ref_data_1 = read_in_data(dir_str, ref_json)\n",
    "\n",
    "with open(\"../public_evaluation/images_part2_test_public.json\") as f:\n",
    "    ref_json = json.load(f)\n",
    "\n",
    "dir_str = \"../public_evaluation/images_part2_test\"\n",
    "test_data_2 = read_in_data(dir_str, ref_json)\n",
    "\n",
    "with open(\"../public_evaluation/reference_images_part2.json\") as f:\n",
    "    ref_json = json.load(f)\n",
    "\n",
    "dir_str = \"../public_evaluation/reference_images_part2\"\n",
    "ref_data_2 = read_in_data(dir_str, ref_json)"
   ]
  },
  {
   "cell_type": "code",
   "execution_count": 5,
   "id": "80a0bef2-0955-4930-a207-5924187a5b05",
   "metadata": {},
   "outputs": [],
   "source": [
    "ref_data = pd.concat([ref_data_1, ref_data_2])"
   ]
  },
  {
   "cell_type": "code",
   "execution_count": 6,
   "id": "24c77d26-43b8-40d8-8cc4-38778ef073cb",
   "metadata": {},
   "outputs": [
    {
     "data": {
      "text/plain": [
       "2"
      ]
     },
     "execution_count": 6,
     "metadata": {},
     "output_type": "execute_result"
    }
   ],
   "source": [
    "ref_data[ref_data.id == 217].category_id.values[0]"
   ]
  },
  {
   "cell_type": "code",
   "execution_count": 7,
   "id": "e9a60ca2-0fb7-4707-bf2b-7d2c1053f750",
   "metadata": {},
   "outputs": [
    {
     "data": {
      "application/vnd.jupyter.widget-view+json": {
       "model_id": "c56465185b314ca997e6d53b2595ecf2",
       "version_major": 2,
       "version_minor": 0
      },
      "text/plain": [
       "0it [00:00, ?it/s]"
      ]
     },
     "metadata": {},
     "output_type": "display_data"
    }
   ],
   "source": [
    "test_1 = predict_knn(model, ref_data, test_data_1, k=1, final=True)"
   ]
  },
  {
   "cell_type": "code",
   "execution_count": null,
   "id": "6774f87b-3f7e-4572-8cbe-6b661d3f2498",
   "metadata": {},
   "outputs": [
    {
     "data": {
      "application/vnd.jupyter.widget-view+json": {
       "model_id": "1c0eefbbe04b48beaa8b917a59f0b159",
       "version_major": 2,
       "version_minor": 0
      },
      "text/plain": [
       "0it [00:00, ?it/s]"
      ]
     },
     "metadata": {},
     "output_type": "display_data"
    }
   ],
   "source": [
    "test_2 = predict_knn(model, ref_data, test_data_2, k=1, final=True)"
   ]
  },
  {
   "cell_type": "code",
   "execution_count": null,
   "id": "e2adbeb8-3abe-40be-a782-e231905507f8",
   "metadata": {},
   "outputs": [],
   "source": [
    "test_1.head()"
   ]
  },
  {
   "cell_type": "code",
   "execution_count": null,
   "id": "972b5ef5-a25e-44fd-bcd3-9084fe75a6ed",
   "metadata": {},
   "outputs": [],
   "source": []
  }
 ],
 "metadata": {
  "kernelspec": {
   "display_name": "KNUM hackathon",
   "language": "python",
   "name": "myenv"
  },
  "language_info": {
   "codemirror_mode": {
    "name": "ipython",
    "version": 3
   },
   "file_extension": ".py",
   "mimetype": "text/x-python",
   "name": "python",
   "nbconvert_exporter": "python",
   "pygments_lexer": "ipython3",
   "version": "3.8.10"
  }
 },
 "nbformat": 4,
 "nbformat_minor": 5
}
