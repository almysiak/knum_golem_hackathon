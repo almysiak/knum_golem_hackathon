{
 "cells": [
  {
   "cell_type": "code",
   "execution_count": 1,
   "metadata": {},
   "outputs": [
    {
     "name": "stderr",
     "output_type": "stream",
     "text": [
      "C:\\Users\\jerzy_p7rtwpj\\anaconda3\\lib\\site-packages\\torchvision\\io\\image.py:11: UserWarning: Failed to load image Python extension: Could not find module 'C:\\Users\\jerzy_p7rtwpj\\anaconda3\\Lib\\site-packages\\torchvision\\image.pyd' (or one of its dependencies). Try using the full path with constructor syntax.\n",
      "  warn(f\"Failed to load image Python extension: {e}\")\n"
     ]
    }
   ],
   "source": [
    "import torch\n",
    "from torchvision import transforms\n",
    "from PIL import Image\n",
    "import os\n",
    "import pandas as pd\n",
    "import json"
   ]
  },
  {
   "cell_type": "code",
   "execution_count": 91,
   "metadata": {},
   "outputs": [],
   "source": [
    "def read_in_data(dir_str, ref_json):\n",
    "    print(dir_str)\n",
    "    print(ref_json.keys())\n",
    "    for key in ref_json.keys():\n",
    "        print(key)\n",
    "        print(ref_json[key][0])\n",
    "    #print(ref_json['box'][0])\n",
    "    print(ref_json)\n",
    "    id_to_img = {}\n",
    "    df = pd.DataFrame(columns=['id', 'image_id', 'bbox', 'category_id', 'img'])\n",
    "\n",
    "    for line in ref_json[\"images\"]:\n",
    "        filename = line[\"file_name\"]\n",
    "        img = Image.open(dir_str + \"/\" + filename)\n",
    "        id_to_img[line[\"id\"]] = img\n",
    "\n",
    "    for box in ref_json[\"annotations\"]:\n",
    "        box_coords = box[\"bbox\"]\n",
    "        # im1 = im.crop((left, top, right, bottom))\n",
    "        # [lewy górny róg, szerokość, wysokość]\n",
    "        box_coords = [box_coords[0], box_coords[1], box_coords[0] + box_coords[2], box_coords[1] + box_coords[3]]\n",
    "        \n",
    "        image = id_to_img[box[\"image_id\"]].crop(box_coords)\n",
    "        if len(image.getbands()) > 3:\n",
    "            image_ = Image.new(\"RGB\", image.size, (255, 255, 255))\n",
    "            image_.paste(image, mask=image.split()[3]) \n",
    "        else:\n",
    "            image_ = image\n",
    "\n",
    "        box[\"img\"] = image_\n",
    "        df.loc[box[\"id\"]] = box\n",
    "\n",
    "\n",
    "    df.set_index(\"id\")\n",
    "    return df"
   ]
  },
  {
   "cell_type": "code",
   "execution_count": 125,
   "metadata": {},
   "outputs": [
    {
     "name": "stdout",
     "output_type": "stream",
     "text": [
      "../public_dataset/reference_images_part1\n",
      "dict_keys(['images', 'annotations', 'categories'])\n",
      "images\n",
      "{'id': 4, 'width': 1280, 'height': 720, 'file_name': 'nomagic_mulled_wine_3.png'}\n",
      "annotations\n",
      "{'id': 12, 'image_id': 4, 'bbox': [665, 448, 206, 174], 'category_id': 8}\n",
      "categories\n",
      "{'id': 1, 'name': 'nomagic_brush'}\n",
      "{'images': [{'id': 4, 'width': 1280, 'height': 720, 'file_name': 'nomagic_mulled_wine_3.png'}, {'id': 5, 'width': 1280, 'height': 720, 'file_name': 'nomagic_samsung_1.png'}, {'id': 6, 'width': 1280, 'height': 720, 'file_name': 'nomagic_brush_2.png'}, {'id': 7, 'width': 1280, 'height': 720, 'file_name': 'nomagic_cat_eye_1.png'}, {'id': 9, 'width': 1280, 'height': 720, 'file_name': 'nomagic_cat_eye_2.png'}, {'id': 11, 'width': 1280, 'height': 720, 'file_name': 'nomagic_boxers_2.png'}, {'id': 12, 'width': 1280, 'height': 720, 'file_name': 'nomagic_graphics_cards_4.png'}, {'id': 13, 'width': 1280, 'height': 720, 'file_name': 'nomagic_graphics_cards_3.png'}, {'id': 14, 'width': 1280, 'height': 720, 'file_name': 'nomagic_samsung_3.png'}, {'id': 15, 'width': 1280, 'height': 720, 'file_name': 'nomagic_light_bulb_1.png'}, {'id': 16, 'width': 1280, 'height': 720, 'file_name': 'nomagic_graphics_cards_2.png'}, {'id': 19, 'width': 1280, 'height': 720, 'file_name': 'nomagic_roller_3.png'}, {'id': 24, 'width': 1280, 'height': 720, 'file_name': 'nomagic_light_bulb_2.png'}, {'id': 29, 'width': 1280, 'height': 720, 'file_name': 'nomagic_samsung_2.png'}, {'id': 30, 'width': 1280, 'height': 720, 'file_name': 'nomagic_maryna_experiment_2.png'}, {'id': 33, 'width': 1280, 'height': 720, 'file_name': 'nomagic_brush_1.png'}, {'id': 38, 'width': 1280, 'height': 720, 'file_name': 'nomagic_thinkpads_1.png'}, {'id': 42, 'width': 1280, 'height': 720, 'file_name': 'nomagic_papiloty_1.png'}, {'id': 45, 'width': 1280, 'height': 720, 'file_name': 'nomagic_roller_2.png'}, {'id': 46, 'width': 1280, 'height': 720, 'file_name': 'nomagic_thinkpads_3.png'}, {'id': 48, 'width': 1280, 'height': 720, 'file_name': 'nomagic_mulled_wine_2.png'}, {'id': 51, 'width': 1280, 'height': 720, 'file_name': 'nomagic_roller_1.png'}, {'id': 55, 'width': 1280, 'height': 720, 'file_name': 'nomagic_digitec_cables_2.png'}, {'id': 57, 'width': 1280, 'height': 720, 'file_name': 'nomagic_boxers_1.png'}, {'id': 59, 'width': 1280, 'height': 720, 'file_name': 'nomagic_mulled_wine_1.png'}, {'id': 61, 'width': 1280, 'height': 720, 'file_name': 'nomagic_papiloty_2.png'}, {'id': 62, 'width': 1280, 'height': 720, 'file_name': 'nomagic_papiloty_3.png'}, {'id': 63, 'width': 1280, 'height': 720, 'file_name': 'nomagic_graphics_cards_1.png'}, {'id': 64, 'width': 1280, 'height': 720, 'file_name': 'nomagic_maryna_experiment_1.png'}, {'id': 65, 'width': 1280, 'height': 720, 'file_name': 'nomagic_light_bulb_3.png'}, {'id': 66, 'width': 1280, 'height': 720, 'file_name': 'nomagic_samsung_4.png'}, {'id': 67, 'width': 1280, 'height': 720, 'file_name': 'nomagic_digitec_cables_1.png'}, {'id': 70, 'width': 1280, 'height': 720, 'file_name': 'nomagic_thinkpads_2.png'}], 'annotations': [{'id': 12, 'image_id': 4, 'bbox': [665, 448, 206, 174], 'category_id': 8}, {'id': 13, 'image_id': 4, 'bbox': [475, 186, 236, 186], 'category_id': 8}, {'id': 14, 'image_id': 4, 'bbox': [962, 76, 229, 217], 'category_id': 8}, {'id': 15, 'image_id': 4, 'bbox': [778, 250, 163, 135], 'category_id': 8}, {'id': 16, 'image_id': 4, 'bbox': [184, 377, 244, 194], 'category_id': 8}, {'id': 17, 'image_id': 4, 'bbox': [960, 422, 238, 228], 'category_id': 8}, {'id': 18, 'image_id': 4, 'bbox': [446, 437, 169, 155], 'category_id': 8}, {'id': 19, 'image_id': 4, 'bbox': [188, 136, 245, 183], 'category_id': 8}, {'id': 20, 'image_id': 5, 'bbox': [718, 152, 331, 187], 'category_id': 9}, {'id': 21, 'image_id': 5, 'bbox': [215, 116, 146, 262], 'category_id': 9}, {'id': 22, 'image_id': 5, 'bbox': [206, 409, 272, 236], 'category_id': 9}, {'id': 23, 'image_id': 5, 'bbox': [811, 265, 306, 233], 'category_id': 9}, {'id': 24, 'image_id': 5, 'bbox': [452, 119, 253, 244], 'category_id': 9}, {'id': 25, 'image_id': 5, 'bbox': [825, 537, 323, 87], 'category_id': 9}, {'id': 26, 'image_id': 5, 'bbox': [512, 435, 301, 88], 'category_id': 9}, {'id': 27, 'image_id': 6, 'bbox': [127, 93, 424, 110], 'category_id': 1}, {'id': 28, 'image_id': 6, 'bbox': [756, 109, 288, 245], 'category_id': 1}, {'id': 29, 'image_id': 6, 'bbox': [743, 486, 354, 132], 'category_id': 1}, {'id': 30, 'image_id': 6, 'bbox': [622, 218, 374, 220], 'category_id': 1}, {'id': 31, 'image_id': 6, 'bbox': [183, 479, 431, 107], 'category_id': 1}, {'id': 32, 'image_id': 6, 'bbox': [114, 269, 363, 223], 'category_id': 1}, {'id': 33, 'image_id': 6, 'bbox': [573, 246, 164, 298], 'category_id': 1}, {'id': 34, 'image_id': 7, 'bbox': [380, 184, 222, 185], 'category_id': 11}, {'id': 35, 'image_id': 7, 'bbox': [650, 171, 210, 180], 'category_id': 11}, {'id': 36, 'image_id': 7, 'bbox': [431, 322, 248, 167], 'category_id': 11}, {'id': 37, 'image_id': 7, 'bbox': [762, 450, 270, 75], 'category_id': 11}, {'id': 38, 'image_id': 7, 'bbox': [883, 206, 175, 213], 'category_id': 11}, {'id': 39, 'image_id': 7, 'bbox': [257, 123, 249, 157], 'category_id': 11}, {'id': 40, 'image_id': 7, 'bbox': [474, 497, 261, 96], 'category_id': 11}, {'id': 41, 'image_id': 7, 'bbox': [236, 278, 91, 222], 'category_id': 11}, {'id': 48, 'image_id': 9, 'bbox': [862, 141, 211, 193], 'category_id': 11}, {'id': 49, 'image_id': 9, 'bbox': [228, 159, 283, 92], 'category_id': 11}, {'id': 50, 'image_id': 9, 'bbox': [243, 400, 165, 220], 'category_id': 11}, {'id': 51, 'image_id': 9, 'bbox': [515, 417, 256, 172], 'category_id': 11}, {'id': 52, 'image_id': 9, 'bbox': [627, 138, 117, 225], 'category_id': 11}, {'id': 53, 'image_id': 9, 'bbox': [892, 321, 209, 204], 'category_id': 11}, {'id': 62, 'image_id': 11, 'bbox': [851, 93, 350, 450], 'category_id': 4}, {'id': 63, 'image_id': 11, 'bbox': [153, 97, 354, 420], 'category_id': 4}, {'id': 64, 'image_id': 11, 'bbox': [487, 94, 375, 423], 'category_id': 4}, {'id': 65, 'image_id': 12, 'bbox': [295, 130, 801, 399], 'category_id': 13}, {'id': 66, 'image_id': 13, 'bbox': [190, 163, 772, 404], 'category_id': 13}, {'id': 67, 'image_id': 14, 'bbox': [186, 251, 247, 264], 'category_id': 9}, {'id': 68, 'image_id': 14, 'bbox': [481, 435, 307, 207], 'category_id': 9}, {'id': 69, 'image_id': 14, 'bbox': [834, 95, 329, 228], 'category_id': 9}, {'id': 70, 'image_id': 14, 'bbox': [415, 100, 325, 257], 'category_id': 9}, {'id': 71, 'image_id': 14, 'bbox': [852, 377, 313, 264], 'category_id': 9}, {'id': 72, 'image_id': 15, 'bbox': [654, 441, 97, 113], 'category_id': 10}, {'id': 73, 'image_id': 15, 'bbox': [434, 366, 145, 128], 'category_id': 10}, {'id': 74, 'image_id': 15, 'bbox': [287, 306, 117, 99], 'category_id': 10}, {'id': 75, 'image_id': 15, 'bbox': [327, 148, 137, 85], 'category_id': 10}, {'id': 76, 'image_id': 15, 'bbox': [462, 237, 107, 89], 'category_id': 10}, {'id': 77, 'image_id': 15, 'bbox': [669, 296, 106, 88], 'category_id': 10}, {'id': 78, 'image_id': 16, 'bbox': [242, 72, 865, 576], 'category_id': 13}, {'id': 90, 'image_id': 19, 'bbox': [1046, 229, 138, 387], 'category_id': 2}, {'id': 91, 'image_id': 19, 'bbox': [136, 133, 152, 401], 'category_id': 2}, {'id': 92, 'image_id': 19, 'bbox': [550, 87, 456, 112], 'category_id': 2}, {'id': 93, 'image_id': 19, 'bbox': [477, 254, 292, 399], 'category_id': 2}, {'id': 113, 'image_id': 24, 'bbox': [500, 189, 109, 99], 'category_id': 10}, {'id': 114, 'image_id': 24, 'bbox': [566, 486, 153, 125], 'category_id': 10}, {'id': 115, 'image_id': 24, 'bbox': [353, 305, 164, 115], 'category_id': 10}, {'id': 116, 'image_id': 24, 'bbox': [824, 185, 95, 118], 'category_id': 10}, {'id': 117, 'image_id': 24, 'bbox': [908, 345, 119, 100], 'category_id': 10}, {'id': 118, 'image_id': 24, 'bbox': [268, 485, 166, 98], 'category_id': 10}, {'id': 136, 'image_id': 29, 'bbox': [174, 112, 211, 261], 'category_id': 9}, {'id': 137, 'image_id': 29, 'bbox': [114, 438, 297, 157], 'category_id': 9}, {'id': 138, 'image_id': 29, 'bbox': [684, 378, 309, 250], 'category_id': 9}, {'id': 139, 'image_id': 29, 'bbox': [388, 372, 240, 266], 'category_id': 9}, {'id': 140, 'image_id': 29, 'bbox': [388, 111, 313, 240], 'category_id': 9}, {'id': 141, 'image_id': 29, 'bbox': [679, 105, 323, 240], 'category_id': 9}, {'id': 142, 'image_id': 29, 'bbox': [837, 245, 285, 272], 'category_id': 9}, {'id': 143, 'image_id': 30, 'bbox': [118, 77, 391, 425], 'category_id': 6}, {'id': 144, 'image_id': 30, 'bbox': [783, 133, 328, 426], 'category_id': 6}, {'id': 145, 'image_id': 30, 'bbox': [451, 242, 305, 396], 'category_id': 6}, {'id': 155, 'image_id': 33, 'bbox': [116, 97, 411, 126], 'category_id': 1}, {'id': 156, 'image_id': 33, 'bbox': [719, 174, 112, 362], 'category_id': 1}, {'id': 157, 'image_id': 33, 'bbox': [194, 368, 377, 195], 'category_id': 1}, {'id': 158, 'image_id': 33, 'bbox': [809, 171, 246, 341], 'category_id': 1}, {'id': 159, 'image_id': 33, 'bbox': [704, 469, 344, 162], 'category_id': 1}, {'id': 160, 'image_id': 33, 'bbox': [495, 275, 114, 298], 'category_id': 1}, {'id': 161, 'image_id': 33, 'bbox': [115, 513, 369, 86], 'category_id': 1}, {'id': 173, 'image_id': 38, 'bbox': [214, 124, 872, 488], 'category_id': 12}, {'id': 179, 'image_id': 42, 'bbox': [612, 85, 415, 281], 'category_id': 5}, {'id': 180, 'image_id': 42, 'bbox': [103, 333, 410, 294], 'category_id': 5}, {'id': 181, 'image_id': 42, 'bbox': [622, 351, 416, 287], 'category_id': 5}, {'id': 182, 'image_id': 42, 'bbox': [106, 81, 374, 268], 'category_id': 5}, {'id': 191, 'image_id': 45, 'bbox': [721, 356, 461, 241], 'category_id': 2}, {'id': 192, 'image_id': 45, 'bbox': [454, 105, 219, 394], 'category_id': 2}, {'id': 193, 'image_id': 45, 'bbox': [792, 86, 403, 318], 'category_id': 2}, {'id': 194, 'image_id': 45, 'bbox': [141, 275, 358, 388], 'category_id': 2}, {'id': 195, 'image_id': 46, 'bbox': [192, 131, 900, 513], 'category_id': 12}, {'id': 201, 'image_id': 48, 'bbox': [899, 94, 219, 187], 'category_id': 8}, {'id': 202, 'image_id': 48, 'bbox': [394, 310, 198, 172], 'category_id': 8}, {'id': 203, 'image_id': 48, 'bbox': [523, 147, 178, 149], 'category_id': 8}, {'id': 204, 'image_id': 48, 'bbox': [103, 426, 217, 215], 'category_id': 8}, {'id': 205, 'image_id': 48, 'bbox': [585, 426, 178, 150], 'category_id': 8}, {'id': 215, 'image_id': 51, 'bbox': [110, 275, 282, 374], 'category_id': 2}, {'id': 216, 'image_id': 51, 'bbox': [698, 89, 258, 381], 'category_id': 2}, {'id': 217, 'image_id': 51, 'bbox': [968, 159, 157, 388], 'category_id': 2}, {'id': 218, 'image_id': 51, 'bbox': [465, 287, 383, 338], 'category_id': 2}, {'id': 219, 'image_id': 51, 'bbox': [221, 94, 443, 236], 'category_id': 2}, {'id': 230, 'image_id': 55, 'bbox': [291, 385, 223, 223], 'category_id': 3}, {'id': 231, 'image_id': 55, 'bbox': [937, 168, 157, 238], 'category_id': 3}, {'id': 232, 'image_id': 55, 'bbox': [265, 146, 245, 210], 'category_id': 3}, {'id': 233, 'image_id': 55, 'bbox': [571, 446, 233, 196], 'category_id': 3}, {'id': 234, 'image_id': 55, 'bbox': [543, 91, 155, 218], 'category_id': 3}, {'id': 235, 'image_id': 55, 'bbox': [785, 340, 157, 233], 'category_id': 3}, {'id': 241, 'image_id': 57, 'bbox': [791, 161, 330, 408], 'category_id': 4}, {'id': 242, 'image_id': 57, 'bbox': [454, 182, 327, 415], 'category_id': 4}, {'id': 243, 'image_id': 57, 'bbox': [118, 188, 326, 369], 'category_id': 4}, {'id': 246, 'image_id': 59, 'bbox': [756, 79, 238, 189], 'category_id': 8}, {'id': 247, 'image_id': 59, 'bbox': [231, 340, 222, 189], 'category_id': 8}, {'id': 248, 'image_id': 59, 'bbox': [850, 235, 244, 183], 'category_id': 8}, {'id': 249, 'image_id': 59, 'bbox': [678, 342, 180, 149], 'category_id': 8}, {'id': 250, 'image_id': 59, 'bbox': [415, 117, 226, 192], 'category_id': 8}, {'id': 252, 'image_id': 61, 'bbox': [194, 357, 411, 275], 'category_id': 5}, {'id': 253, 'image_id': 61, 'bbox': [213, 98, 418, 272], 'category_id': 5}, {'id': 254, 'image_id': 61, 'bbox': [611, 91, 423, 288], 'category_id': 5}, {'id': 255, 'image_id': 61, 'bbox': [617, 346, 413, 292], 'category_id': 5}, {'id': 256, 'image_id': 62, 'bbox': [843, 151, 321, 352], 'category_id': 5}, {'id': 257, 'image_id': 62, 'bbox': [476, 164, 360, 376], 'category_id': 5}, {'id': 258, 'image_id': 62, 'bbox': [157, 158, 345, 366], 'category_id': 5}, {'id': 259, 'image_id': 63, 'bbox': [247, 98, 794, 395], 'category_id': 13}, {'id': 260, 'image_id': 64, 'bbox': [630, 100, 485, 267], 'category_id': 6}, {'id': 261, 'image_id': 64, 'bbox': [643, 387, 445, 214], 'category_id': 6}, {'id': 262, 'image_id': 64, 'bbox': [136, 404, 467, 227], 'category_id': 6}, {'id': 263, 'image_id': 64, 'bbox': [143, 83, 481, 228], 'category_id': 6}, {'id': 264, 'image_id': 65, 'bbox': [881, 365, 93, 113], 'category_id': 10}, {'id': 265, 'image_id': 65, 'bbox': [623, 220, 149, 122], 'category_id': 10}, {'id': 266, 'image_id': 65, 'bbox': [230, 321, 140, 78], 'category_id': 10}, {'id': 267, 'image_id': 65, 'bbox': [450, 446, 141, 130], 'category_id': 10}, {'id': 268, 'image_id': 65, 'bbox': [856, 178, 113, 95], 'category_id': 10}, {'id': 269, 'image_id': 65, 'bbox': [364, 179, 94, 73], 'category_id': 10}, {'id': 270, 'image_id': 66, 'bbox': [246, 389, 313, 186], 'category_id': 9}, {'id': 271, 'image_id': 66, 'bbox': [777, 169, 320, 154], 'category_id': 9}, {'id': 272, 'image_id': 66, 'bbox': [494, 117, 116, 252], 'category_id': 9}, {'id': 273, 'image_id': 66, 'bbox': [653, 372, 230, 265], 'category_id': 9}, {'id': 274, 'image_id': 67, 'bbox': [185, 396, 189, 208], 'category_id': 3}, {'id': 275, 'image_id': 67, 'bbox': [673, 285, 158, 224], 'category_id': 3}, {'id': 276, 'image_id': 67, 'bbox': [388, 443, 238, 186], 'category_id': 3}, {'id': 277, 'image_id': 67, 'bbox': [791, 129, 277, 139], 'category_id': 3}, {'id': 278, 'image_id': 67, 'bbox': [345, 139, 271, 109], 'category_id': 3}, {'id': 279, 'image_id': 67, 'bbox': [895, 365, 177, 223], 'category_id': 3}, {'id': 280, 'image_id': 67, 'bbox': [155, 146, 163, 209], 'category_id': 3}, {'id': 294, 'image_id': 70, 'bbox': [177, 116, 875, 495], 'category_id': 12}], 'categories': [{'id': 1, 'name': 'nomagic_brush'}, {'id': 2, 'name': 'nomagic_roller'}, {'id': 3, 'name': 'nomagic_digitec_cables'}, {'id': 4, 'name': 'nomagic_boxers'}, {'id': 5, 'name': 'nomagic_papiloty'}, {'id': 6, 'name': 'nomagic_maryna_experiment'}, {'id': 7, 'name': 'nomagic_toothpaste'}, {'id': 8, 'name': 'nomagic_mulled_wine'}, {'id': 9, 'name': 'nomagic_samsung'}, {'id': 10, 'name': 'nomagic_light_bulb'}, {'id': 11, 'name': 'nomagic_cat_eye'}, {'id': 12, 'name': 'nomagic_thinkpads'}, {'id': 13, 'name': 'nomagic_graphics_cards'}, {'id': 14, 'name': 'nomagic_wool_shaver'}, {'id': 15, 'name': 'nomagic_cherry'}, {'id': 16, 'name': 'nomagic_gargamel'}, {'id': 17, 'name': 'nomagic_foodie'}, {'id': 18, 'name': 'nomagic_dax_cream'}, {'id': 19, 'name': 'nomagic_cd'}, {'id': 20, 'name': 'nomagic_pet_vr'}, {'id': 21, 'name': 'nomagic_salt'}, {'id': 22, 'name': 'nomagic_advantech'}, {'id': 23, 'name': 'nomagic_familtea'}, {'id': 24, 'name': 'nomagic_joanna_grey'}, {'id': 25, 'name': 'nomagic_marshmallow'}, {'id': 26, 'name': 'nomagic_pink_sponge'}, {'id': 27, 'name': 'nomagic_sanitizer_bottle'}, {'id': 28, 'name': 'item'}]}\n"
     ]
    },
    {
     "data": {
      "text/html": [
       "<div>\n",
       "<style scoped>\n",
       "    .dataframe tbody tr th:only-of-type {\n",
       "        vertical-align: middle;\n",
       "    }\n",
       "\n",
       "    .dataframe tbody tr th {\n",
       "        vertical-align: top;\n",
       "    }\n",
       "\n",
       "    .dataframe thead th {\n",
       "        text-align: right;\n",
       "    }\n",
       "</style>\n",
       "<table border=\"1\" class=\"dataframe\">\n",
       "  <thead>\n",
       "    <tr style=\"text-align: right;\">\n",
       "      <th></th>\n",
       "      <th>id</th>\n",
       "      <th>image_id</th>\n",
       "      <th>bbox</th>\n",
       "      <th>category_id</th>\n",
       "      <th>img</th>\n",
       "    </tr>\n",
       "  </thead>\n",
       "  <tbody>\n",
       "    <tr>\n",
       "      <th>12</th>\n",
       "      <td>12</td>\n",
       "      <td>4</td>\n",
       "      <td>[665, 448, 206, 174]</td>\n",
       "      <td>8</td>\n",
       "      <td>&lt;PIL.Image.Image image mode=RGB size=206x174 a...</td>\n",
       "    </tr>\n",
       "    <tr>\n",
       "      <th>13</th>\n",
       "      <td>13</td>\n",
       "      <td>4</td>\n",
       "      <td>[475, 186, 236, 186]</td>\n",
       "      <td>8</td>\n",
       "      <td>&lt;PIL.Image.Image image mode=RGB size=236x186 a...</td>\n",
       "    </tr>\n",
       "    <tr>\n",
       "      <th>14</th>\n",
       "      <td>14</td>\n",
       "      <td>4</td>\n",
       "      <td>[962, 76, 229, 217]</td>\n",
       "      <td>8</td>\n",
       "      <td>&lt;PIL.Image.Image image mode=RGB size=229x217 a...</td>\n",
       "    </tr>\n",
       "    <tr>\n",
       "      <th>15</th>\n",
       "      <td>15</td>\n",
       "      <td>4</td>\n",
       "      <td>[778, 250, 163, 135]</td>\n",
       "      <td>8</td>\n",
       "      <td>&lt;PIL.Image.Image image mode=RGB size=163x135 a...</td>\n",
       "    </tr>\n",
       "    <tr>\n",
       "      <th>16</th>\n",
       "      <td>16</td>\n",
       "      <td>4</td>\n",
       "      <td>[184, 377, 244, 194]</td>\n",
       "      <td>8</td>\n",
       "      <td>&lt;PIL.Image.Image image mode=RGB size=244x194 a...</td>\n",
       "    </tr>\n",
       "  </tbody>\n",
       "</table>\n",
       "</div>"
      ],
      "text/plain": [
       "    id image_id                  bbox category_id  \\\n",
       "12  12        4  [665, 448, 206, 174]           8   \n",
       "13  13        4  [475, 186, 236, 186]           8   \n",
       "14  14        4   [962, 76, 229, 217]           8   \n",
       "15  15        4  [778, 250, 163, 135]           8   \n",
       "16  16        4  [184, 377, 244, 194]           8   \n",
       "\n",
       "                                                  img  \n",
       "12  <PIL.Image.Image image mode=RGB size=206x174 a...  \n",
       "13  <PIL.Image.Image image mode=RGB size=236x186 a...  \n",
       "14  <PIL.Image.Image image mode=RGB size=229x217 a...  \n",
       "15  <PIL.Image.Image image mode=RGB size=163x135 a...  \n",
       "16  <PIL.Image.Image image mode=RGB size=244x194 a...  "
      ]
     },
     "execution_count": 125,
     "metadata": {},
     "output_type": "execute_result"
    }
   ],
   "source": [
    "with open(\"../public_dataset/reference_images_part1.json\") as f:\n",
    "    ref_json = json.load(f)\n",
    "\n",
    "dir_str = \"../public_dataset/reference_images_part1\"\n",
    "df = read_in_data(dir_str, ref_json)\n",
    "df.head()\n",
    "\n"
   ]
  },
  {
   "cell_type": "code",
   "execution_count": 4,
   "metadata": {},
   "outputs": [],
   "source": []
  },
  {
   "cell_type": "code",
   "execution_count": 93,
   "metadata": {},
   "outputs": [
    {
     "name": "stdout",
     "output_type": "stream",
     "text": [
      "      id\n",
      "12    12\n",
      "13    13\n",
      "14    14\n",
      "15    15\n",
      "16    16\n",
      "..   ...\n",
      "277  277\n",
      "278  278\n",
      "279  279\n",
      "280  280\n",
      "294  294\n",
      "\n",
      "[144 rows x 1 columns]\n",
      "[\n"
     ]
    },
    {
     "ename": "TypeError",
     "evalue": "string indices must be integers",
     "output_type": "error",
     "traceback": [
      "\u001b[1;31m---------------------------------------------------------------------------\u001b[0m",
      "\u001b[1;31mTypeError\u001b[0m                                 Traceback (most recent call last)",
      "\u001b[1;32m<ipython-input-93-72e1ea7572f8>\u001b[0m in \u001b[0;36m<module>\u001b[1;34m\u001b[0m\n\u001b[0;32m     13\u001b[0m \u001b[1;31m#     df.set_index(\"id\")\u001b[0m\u001b[1;33m\u001b[0m\u001b[1;33m\u001b[0m\u001b[1;33m\u001b[0m\u001b[0m\n\u001b[0;32m     14\u001b[0m     \u001b[1;32mreturn\u001b[0m \u001b[0mdf\u001b[0m\u001b[1;33m\u001b[0m\u001b[1;33m\u001b[0m\u001b[0m\n\u001b[1;32m---> 15\u001b[1;33m \u001b[0mread_in_data_reverse\u001b[0m\u001b[1;33m(\u001b[0m\u001b[0mdf\u001b[0m\u001b[1;33m,\u001b[0m \u001b[0mref_json\u001b[0m\u001b[1;33m)\u001b[0m\u001b[1;33m\u001b[0m\u001b[1;33m\u001b[0m\u001b[0m\n\u001b[0m",
      "\u001b[1;32m<ipython-input-93-72e1ea7572f8>\u001b[0m in \u001b[0;36mread_in_data_reverse\u001b[1;34m(df, ref_json)\u001b[0m\n\u001b[0;32m      6\u001b[0m     \u001b[0mprint\u001b[0m\u001b[1;33m(\u001b[0m\u001b[0mimages_dict\u001b[0m\u001b[1;33m[\u001b[0m\u001b[1;36m0\u001b[0m\u001b[1;33m]\u001b[0m\u001b[1;33m)\u001b[0m\u001b[1;33m\u001b[0m\u001b[1;33m\u001b[0m\u001b[0m\n\u001b[0;32m      7\u001b[0m     \u001b[1;32mfor\u001b[0m \u001b[0mline\u001b[0m \u001b[1;32min\u001b[0m \u001b[0mimages_dict\u001b[0m\u001b[1;33m:\u001b[0m\u001b[1;33m\u001b[0m\u001b[1;33m\u001b[0m\u001b[0m\n\u001b[1;32m----> 8\u001b[1;33m         \u001b[0mprint\u001b[0m\u001b[1;33m(\u001b[0m\u001b[0mline\u001b[0m\u001b[1;33m[\u001b[0m\u001b[1;34m'id'\u001b[0m\u001b[1;33m]\u001b[0m\u001b[1;33m)\u001b[0m\u001b[1;33m\u001b[0m\u001b[1;33m\u001b[0m\u001b[0m\n\u001b[0m\u001b[0;32m      9\u001b[0m         \u001b[1;31m#print(ref_json[\"images\"]['id' == 4 ])\u001b[0m\u001b[1;33m\u001b[0m\u001b[1;33m\u001b[0m\u001b[1;33m\u001b[0m\u001b[0m\n\u001b[0;32m     10\u001b[0m \u001b[1;33m\u001b[0m\u001b[0m\n",
      "\u001b[1;31mTypeError\u001b[0m: string indices must be integers"
     ]
    }
   ],
   "source": [
    "def read_in_data_reverse(df, ref_json):\n",
    "    images = pd.DataFrame()\n",
    "    images = images.assign(id = df['id'])\n",
    "    images = images.assign(id = df['category_id'])\n",
    "    print(images)\n",
    "    images_dict = (images).to_json(orient='records')\n",
    "    print(images_dict[0])\n",
    "    for line in images_dict:\n",
    "        print(line['id'])\n",
    "        #print(ref_json[\"images\"]['id' == 4 ])\n",
    "        \n",
    "\n",
    "    #print(data_dict)\n",
    "#     df.set_index(\"id\")\n",
    "    return df\n",
    "read_in_data_reverse(df, ref_json)"
   ]
  },
  {
   "cell_type": "code",
   "execution_count": 88,
   "metadata": {},
   "outputs": [
    {
     "name": "stdout",
     "output_type": "stream",
     "text": [
      "1\n",
      "3\n",
      "5\n"
     ]
    }
   ],
   "source": [
    "dataList = [{'a': 1}, {'a': 3, 'b': 20}, {'a': 5}]\n",
    "for index in range(len(dataList)):\n",
    "    print(dataList[index]['a'])"
   ]
  },
  {
   "cell_type": "code",
   "execution_count": 109,
   "metadata": {},
   "outputs": [
    {
     "name": "stdout",
     "output_type": "stream",
     "text": [
      "images\n",
      "{'id': 156, 'width': 1280, 'height': 720, 'file_name': '20220221-212932.557424-scout.png', 'license': 0, 'flickr_url': '', 'coco_url': '', 'date_captured': 0}\n",
      "annotations\n",
      "{'id': 2987, 'image_id': 156, 'category_id': None, 'area': 8859, 'bbox': [282.21, 253.88, 59.6, 169.87], 'iscrowd': 0, 'occluded': False, 'attributes': {'occluded': ['Not-Occluded']}, 'group_id': 0}\n",
      "licenses\n",
      "{'name': '', 'id': 0, 'url': ''}\n",
      "info\n"
     ]
    },
    {
     "ename": "KeyError",
     "evalue": "0",
     "output_type": "error",
     "traceback": [
      "\u001b[1;31m---------------------------------------------------------------------------\u001b[0m",
      "\u001b[1;31mKeyError\u001b[0m                                  Traceback (most recent call last)",
      "\u001b[1;32m<ipython-input-109-6728986188bc>\u001b[0m in \u001b[0;36m<module>\u001b[1;34m\u001b[0m\n\u001b[0;32m      4\u001b[0m     \u001b[1;32mfor\u001b[0m \u001b[0mkey\u001b[0m \u001b[1;32min\u001b[0m \u001b[0mref_json\u001b[0m\u001b[1;33m.\u001b[0m\u001b[0mkeys\u001b[0m\u001b[1;33m(\u001b[0m\u001b[1;33m)\u001b[0m\u001b[1;33m:\u001b[0m\u001b[1;33m\u001b[0m\u001b[1;33m\u001b[0m\u001b[0m\n\u001b[0;32m      5\u001b[0m         \u001b[0mprint\u001b[0m\u001b[1;33m(\u001b[0m\u001b[0mkey\u001b[0m\u001b[1;33m)\u001b[0m\u001b[1;33m\u001b[0m\u001b[1;33m\u001b[0m\u001b[0m\n\u001b[1;32m----> 6\u001b[1;33m         \u001b[0mprint\u001b[0m\u001b[1;33m(\u001b[0m\u001b[0mref_json\u001b[0m\u001b[1;33m[\u001b[0m\u001b[0mkey\u001b[0m\u001b[1;33m]\u001b[0m\u001b[1;33m[\u001b[0m\u001b[1;36m0\u001b[0m\u001b[1;33m]\u001b[0m\u001b[1;33m)\u001b[0m\u001b[1;33m\u001b[0m\u001b[1;33m\u001b[0m\u001b[0m\n\u001b[0m",
      "\u001b[1;31mKeyError\u001b[0m: 0"
     ]
    }
   ],
   "source": [
    "with open(\"../public_dataset/images_part1_test_public.json\") as f:\n",
    "    ref_json = json.load(f)\n",
    "    #print(ref_json)\n",
    "    for key in ref_json.keys():\n",
    "        print(key)\n",
    "        print(ref_json[key][0])"
   ]
  },
  {
   "cell_type": "code",
   "execution_count": 141,
   "metadata": {},
   "outputs": [
    {
     "name": "stdout",
     "output_type": "stream",
     "text": [
      "[{'id': 12, 'image_id': 4, 'bbox': [665, 448, 206, 174], 'category_id': 8}, {'id': 13, 'image_id': 4, 'bbox': [475, 186, 236, 186], 'category_id': 8}, {'id': 14, 'image_id': 4, 'bbox': [962, 76, 229, 217], 'category_id': 8}, {'id': 15, 'image_id': 4, 'bbox': [778, 250, 163, 135], 'category_id': 8}, {'id': 16, 'image_id': 4, 'bbox': [184, 377, 244, 194], 'category_id': 8}, {'id': 17, 'image_id': 4, 'bbox': [960, 422, 238, 228], 'category_id': 8}, {'id': 18, 'image_id': 4, 'bbox': [446, 437, 169, 155], 'category_id': 8}, {'id': 19, 'image_id': 4, 'bbox': [188, 136, 245, 183], 'category_id': 8}, {'id': 20, 'image_id': 5, 'bbox': [718, 152, 331, 187], 'category_id': 9}, {'id': 21, 'image_id': 5, 'bbox': [215, 116, 146, 262], 'category_id': 9}, {'id': 22, 'image_id': 5, 'bbox': [206, 409, 272, 236], 'category_id': 9}, {'id': 23, 'image_id': 5, 'bbox': [811, 265, 306, 233], 'category_id': 9}, {'id': 24, 'image_id': 5, 'bbox': [452, 119, 253, 244], 'category_id': 9}, {'id': 25, 'image_id': 5, 'bbox': [825, 537, 323, 87], 'category_id': 9}, {'id': 26, 'image_id': 5, 'bbox': [512, 435, 301, 88], 'category_id': 9}, {'id': 27, 'image_id': 6, 'bbox': [127, 93, 424, 110], 'category_id': 1}, {'id': 28, 'image_id': 6, 'bbox': [756, 109, 288, 245], 'category_id': 1}, {'id': 29, 'image_id': 6, 'bbox': [743, 486, 354, 132], 'category_id': 1}, {'id': 30, 'image_id': 6, 'bbox': [622, 218, 374, 220], 'category_id': 1}, {'id': 31, 'image_id': 6, 'bbox': [183, 479, 431, 107], 'category_id': 1}, {'id': 32, 'image_id': 6, 'bbox': [114, 269, 363, 223], 'category_id': 1}, {'id': 33, 'image_id': 6, 'bbox': [573, 246, 164, 298], 'category_id': 1}, {'id': 34, 'image_id': 7, 'bbox': [380, 184, 222, 185], 'category_id': 11}, {'id': 35, 'image_id': 7, 'bbox': [650, 171, 210, 180], 'category_id': 11}, {'id': 36, 'image_id': 7, 'bbox': [431, 322, 248, 167], 'category_id': 11}, {'id': 37, 'image_id': 7, 'bbox': [762, 450, 270, 75], 'category_id': 11}, {'id': 38, 'image_id': 7, 'bbox': [883, 206, 175, 213], 'category_id': 11}, {'id': 39, 'image_id': 7, 'bbox': [257, 123, 249, 157], 'category_id': 11}, {'id': 40, 'image_id': 7, 'bbox': [474, 497, 261, 96], 'category_id': 11}, {'id': 41, 'image_id': 7, 'bbox': [236, 278, 91, 222], 'category_id': 11}, {'id': 48, 'image_id': 9, 'bbox': [862, 141, 211, 193], 'category_id': 11}, {'id': 49, 'image_id': 9, 'bbox': [228, 159, 283, 92], 'category_id': 11}, {'id': 50, 'image_id': 9, 'bbox': [243, 400, 165, 220], 'category_id': 11}, {'id': 51, 'image_id': 9, 'bbox': [515, 417, 256, 172], 'category_id': 11}, {'id': 52, 'image_id': 9, 'bbox': [627, 138, 117, 225], 'category_id': 11}, {'id': 53, 'image_id': 9, 'bbox': [892, 321, 209, 204], 'category_id': 11}, {'id': 62, 'image_id': 11, 'bbox': [851, 93, 350, 450], 'category_id': 4}, {'id': 63, 'image_id': 11, 'bbox': [153, 97, 354, 420], 'category_id': 4}, {'id': 64, 'image_id': 11, 'bbox': [487, 94, 375, 423], 'category_id': 4}, {'id': 65, 'image_id': 12, 'bbox': [295, 130, 801, 399], 'category_id': 13}, {'id': 66, 'image_id': 13, 'bbox': [190, 163, 772, 404], 'category_id': 13}, {'id': 67, 'image_id': 14, 'bbox': [186, 251, 247, 264], 'category_id': 9}, {'id': 68, 'image_id': 14, 'bbox': [481, 435, 307, 207], 'category_id': 9}, {'id': 69, 'image_id': 14, 'bbox': [834, 95, 329, 228], 'category_id': 9}, {'id': 70, 'image_id': 14, 'bbox': [415, 100, 325, 257], 'category_id': 9}, {'id': 71, 'image_id': 14, 'bbox': [852, 377, 313, 264], 'category_id': 9}, {'id': 72, 'image_id': 15, 'bbox': [654, 441, 97, 113], 'category_id': 10}, {'id': 73, 'image_id': 15, 'bbox': [434, 366, 145, 128], 'category_id': 10}, {'id': 74, 'image_id': 15, 'bbox': [287, 306, 117, 99], 'category_id': 10}, {'id': 75, 'image_id': 15, 'bbox': [327, 148, 137, 85], 'category_id': 10}, {'id': 76, 'image_id': 15, 'bbox': [462, 237, 107, 89], 'category_id': 10}, {'id': 77, 'image_id': 15, 'bbox': [669, 296, 106, 88], 'category_id': 10}, {'id': 78, 'image_id': 16, 'bbox': [242, 72, 865, 576], 'category_id': 13}, {'id': 90, 'image_id': 19, 'bbox': [1046, 229, 138, 387], 'category_id': 2}, {'id': 91, 'image_id': 19, 'bbox': [136, 133, 152, 401], 'category_id': 2}, {'id': 92, 'image_id': 19, 'bbox': [550, 87, 456, 112], 'category_id': 2}, {'id': 93, 'image_id': 19, 'bbox': [477, 254, 292, 399], 'category_id': 2}, {'id': 113, 'image_id': 24, 'bbox': [500, 189, 109, 99], 'category_id': 10}, {'id': 114, 'image_id': 24, 'bbox': [566, 486, 153, 125], 'category_id': 10}, {'id': 115, 'image_id': 24, 'bbox': [353, 305, 164, 115], 'category_id': 10}, {'id': 116, 'image_id': 24, 'bbox': [824, 185, 95, 118], 'category_id': 10}, {'id': 117, 'image_id': 24, 'bbox': [908, 345, 119, 100], 'category_id': 10}, {'id': 118, 'image_id': 24, 'bbox': [268, 485, 166, 98], 'category_id': 10}, {'id': 136, 'image_id': 29, 'bbox': [174, 112, 211, 261], 'category_id': 9}, {'id': 137, 'image_id': 29, 'bbox': [114, 438, 297, 157], 'category_id': 9}, {'id': 138, 'image_id': 29, 'bbox': [684, 378, 309, 250], 'category_id': 9}, {'id': 139, 'image_id': 29, 'bbox': [388, 372, 240, 266], 'category_id': 9}, {'id': 140, 'image_id': 29, 'bbox': [388, 111, 313, 240], 'category_id': 9}, {'id': 141, 'image_id': 29, 'bbox': [679, 105, 323, 240], 'category_id': 9}, {'id': 142, 'image_id': 29, 'bbox': [837, 245, 285, 272], 'category_id': 9}, {'id': 143, 'image_id': 30, 'bbox': [118, 77, 391, 425], 'category_id': 6}, {'id': 144, 'image_id': 30, 'bbox': [783, 133, 328, 426], 'category_id': 6}, {'id': 145, 'image_id': 30, 'bbox': [451, 242, 305, 396], 'category_id': 6}, {'id': 155, 'image_id': 33, 'bbox': [116, 97, 411, 126], 'category_id': 1}, {'id': 156, 'image_id': 33, 'bbox': [719, 174, 112, 362], 'category_id': 1}, {'id': 157, 'image_id': 33, 'bbox': [194, 368, 377, 195], 'category_id': 1}, {'id': 158, 'image_id': 33, 'bbox': [809, 171, 246, 341], 'category_id': 1}, {'id': 159, 'image_id': 33, 'bbox': [704, 469, 344, 162], 'category_id': 1}, {'id': 160, 'image_id': 33, 'bbox': [495, 275, 114, 298], 'category_id': 1}, {'id': 161, 'image_id': 33, 'bbox': [115, 513, 369, 86], 'category_id': 1}, {'id': 173, 'image_id': 38, 'bbox': [214, 124, 872, 488], 'category_id': 12}, {'id': 179, 'image_id': 42, 'bbox': [612, 85, 415, 281], 'category_id': 5}, {'id': 180, 'image_id': 42, 'bbox': [103, 333, 410, 294], 'category_id': 5}, {'id': 181, 'image_id': 42, 'bbox': [622, 351, 416, 287], 'category_id': 5}, {'id': 182, 'image_id': 42, 'bbox': [106, 81, 374, 268], 'category_id': 5}, {'id': 191, 'image_id': 45, 'bbox': [721, 356, 461, 241], 'category_id': 2}, {'id': 192, 'image_id': 45, 'bbox': [454, 105, 219, 394], 'category_id': 2}, {'id': 193, 'image_id': 45, 'bbox': [792, 86, 403, 318], 'category_id': 2}, {'id': 194, 'image_id': 45, 'bbox': [141, 275, 358, 388], 'category_id': 2}, {'id': 195, 'image_id': 46, 'bbox': [192, 131, 900, 513], 'category_id': 12}, {'id': 201, 'image_id': 48, 'bbox': [899, 94, 219, 187], 'category_id': 8}, {'id': 202, 'image_id': 48, 'bbox': [394, 310, 198, 172], 'category_id': 8}, {'id': 203, 'image_id': 48, 'bbox': [523, 147, 178, 149], 'category_id': 8}, {'id': 204, 'image_id': 48, 'bbox': [103, 426, 217, 215], 'category_id': 8}, {'id': 205, 'image_id': 48, 'bbox': [585, 426, 178, 150], 'category_id': 8}, {'id': 215, 'image_id': 51, 'bbox': [110, 275, 282, 374], 'category_id': 2}, {'id': 216, 'image_id': 51, 'bbox': [698, 89, 258, 381], 'category_id': 2}, {'id': 217, 'image_id': 51, 'bbox': [968, 159, 157, 388], 'category_id': 2}, {'id': 218, 'image_id': 51, 'bbox': [465, 287, 383, 338], 'category_id': 2}, {'id': 219, 'image_id': 51, 'bbox': [221, 94, 443, 236], 'category_id': 2}, {'id': 230, 'image_id': 55, 'bbox': [291, 385, 223, 223], 'category_id': 3}, {'id': 231, 'image_id': 55, 'bbox': [937, 168, 157, 238], 'category_id': 3}, {'id': 232, 'image_id': 55, 'bbox': [265, 146, 245, 210], 'category_id': 3}, {'id': 233, 'image_id': 55, 'bbox': [571, 446, 233, 196], 'category_id': 3}, {'id': 234, 'image_id': 55, 'bbox': [543, 91, 155, 218], 'category_id': 3}, {'id': 235, 'image_id': 55, 'bbox': [785, 340, 157, 233], 'category_id': 3}, {'id': 241, 'image_id': 57, 'bbox': [791, 161, 330, 408], 'category_id': 4}, {'id': 242, 'image_id': 57, 'bbox': [454, 182, 327, 415], 'category_id': 4}, {'id': 243, 'image_id': 57, 'bbox': [118, 188, 326, 369], 'category_id': 4}, {'id': 246, 'image_id': 59, 'bbox': [756, 79, 238, 189], 'category_id': 8}, {'id': 247, 'image_id': 59, 'bbox': [231, 340, 222, 189], 'category_id': 8}, {'id': 248, 'image_id': 59, 'bbox': [850, 235, 244, 183], 'category_id': 8}, {'id': 249, 'image_id': 59, 'bbox': [678, 342, 180, 149], 'category_id': 8}, {'id': 250, 'image_id': 59, 'bbox': [415, 117, 226, 192], 'category_id': 8}, {'id': 252, 'image_id': 61, 'bbox': [194, 357, 411, 275], 'category_id': 5}, {'id': 253, 'image_id': 61, 'bbox': [213, 98, 418, 272], 'category_id': 5}, {'id': 254, 'image_id': 61, 'bbox': [611, 91, 423, 288], 'category_id': 5}, {'id': 255, 'image_id': 61, 'bbox': [617, 346, 413, 292], 'category_id': 5}, {'id': 256, 'image_id': 62, 'bbox': [843, 151, 321, 352], 'category_id': 5}, {'id': 257, 'image_id': 62, 'bbox': [476, 164, 360, 376], 'category_id': 5}, {'id': 258, 'image_id': 62, 'bbox': [157, 158, 345, 366], 'category_id': 5}, {'id': 259, 'image_id': 63, 'bbox': [247, 98, 794, 395], 'category_id': 13}, {'id': 260, 'image_id': 64, 'bbox': [630, 100, 485, 267], 'category_id': 6}, {'id': 261, 'image_id': 64, 'bbox': [643, 387, 445, 214], 'category_id': 6}, {'id': 262, 'image_id': 64, 'bbox': [136, 404, 467, 227], 'category_id': 6}, {'id': 263, 'image_id': 64, 'bbox': [143, 83, 481, 228], 'category_id': 6}, {'id': 264, 'image_id': 65, 'bbox': [881, 365, 93, 113], 'category_id': 10}, {'id': 265, 'image_id': 65, 'bbox': [623, 220, 149, 122], 'category_id': 10}, {'id': 266, 'image_id': 65, 'bbox': [230, 321, 140, 78], 'category_id': 10}, {'id': 267, 'image_id': 65, 'bbox': [450, 446, 141, 130], 'category_id': 10}, {'id': 268, 'image_id': 65, 'bbox': [856, 178, 113, 95], 'category_id': 10}, {'id': 269, 'image_id': 65, 'bbox': [364, 179, 94, 73], 'category_id': 10}, {'id': 270, 'image_id': 66, 'bbox': [246, 389, 313, 186], 'category_id': 9}, {'id': 271, 'image_id': 66, 'bbox': [777, 169, 320, 154], 'category_id': 9}, {'id': 272, 'image_id': 66, 'bbox': [494, 117, 116, 252], 'category_id': 9}, {'id': 273, 'image_id': 66, 'bbox': [653, 372, 230, 265], 'category_id': 9}, {'id': 274, 'image_id': 67, 'bbox': [185, 396, 189, 208], 'category_id': 3}, {'id': 275, 'image_id': 67, 'bbox': [673, 285, 158, 224], 'category_id': 3}, {'id': 276, 'image_id': 67, 'bbox': [388, 443, 238, 186], 'category_id': 3}, {'id': 277, 'image_id': 67, 'bbox': [791, 129, 277, 139], 'category_id': 3}, {'id': 278, 'image_id': 67, 'bbox': [345, 139, 271, 109], 'category_id': 3}, {'id': 279, 'image_id': 67, 'bbox': [895, 365, 177, 223], 'category_id': 3}, {'id': 280, 'image_id': 67, 'bbox': [155, 146, 163, 209], 'category_id': 3}, {'id': 294, 'image_id': 70, 'bbox': [177, 116, 875, 495], 'category_id': 12}]\n"
     ]
    }
   ],
   "source": [
    "with open(\"../public_dataset/reference_images_part1.json\") as f:\n",
    "    ref_json = json.load(f)\n",
    "def insert_predictions_to_json(df, ref_json):\n",
    "    final = pd.DataFrame()\n",
    "    final = final.assign(id = df['id'])\n",
    "    final = final.assign(category_id = df['category_id'])\n",
    "    anno = ref_json['annotations']\n",
    "    for index in range(len(anno)):\n",
    "        anno_id = anno[index]['id']\n",
    "        cat_id = final[final.id==anno_id]['category_id'].values[0]\n",
    "        anno[index]['category_id'] = cat_id\n",
    "    ref_json['annotations'] = anno\n",
    "    return ref_json"
   ]
  },
  {
   "cell_type": "code",
   "execution_count": null,
   "metadata": {},
   "outputs": [],
   "source": []
  }
 ],
 "metadata": {
  "kernelspec": {
   "display_name": "Python 3",
   "language": "python",
   "name": "python3"
  },
  "language_info": {
   "codemirror_mode": {
    "name": "ipython",
    "version": 3
   },
   "file_extension": ".py",
   "mimetype": "text/x-python",
   "name": "python",
   "nbconvert_exporter": "python",
   "pygments_lexer": "ipython3",
   "version": "3.8.5"
  }
 },
 "nbformat": 4,
 "nbformat_minor": 5
}
