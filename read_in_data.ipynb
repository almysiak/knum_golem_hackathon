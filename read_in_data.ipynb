{
 "cells": [
  {
   "cell_type": "code",
   "execution_count": 1,
   "id": "2b0cf2e3-fa4b-4aaa-9c18-c9fee208111a",
   "metadata": {},
   "outputs": [
    {
     "name": "stderr",
     "output_type": "stream",
     "text": [
      "/home/aleksandra/Documents/hackathon/knum_venv/lib/python3.8/site-packages/tqdm/auto.py:22: TqdmWarning: IProgress not found. Please update jupyter and ipywidgets. See https://ipywidgets.readthedocs.io/en/stable/user_install.html\n",
      "  from .autonotebook import tqdm as notebook_tqdm\n"
     ]
    }
   ],
   "source": [
    "import torch\n",
    "from torchvision import transforms\n",
    "from PIL import Image\n",
    "import os\n",
    "import pandas as pd\n",
    "import json"
   ]
  },
  {
   "cell_type": "code",
   "execution_count": 7,
   "id": "d223a10e-8516-4aa9-86d2-5e7ff1395232",
   "metadata": {},
   "outputs": [],
   "source": [
    "def read_in_data(dir_str, ref_json):\n",
    "\n",
    "    id_to_img = {}\n",
    "    df = pd.DataFrame(columns=['id', 'image_id', 'bbox', 'category_id', 'img'])\n",
    "\n",
    "    for line in ref_json[\"images\"]:\n",
    "        filename = line[\"file_name\"]\n",
    "        img = Image.open(dir_str + \"/\" + filename)\n",
    "        id_to_img[line[\"id\"]] = img\n",
    "\n",
    "    for box in ref_json[\"annotations\"]:\n",
    "        box_coords = box[\"bbox\"]\n",
    "        # im1 = im.crop((left, top, right, bottom))\n",
    "        # [lewy górny róg, szerokość, wysokość]\n",
    "        box_coords = [box_coords[0], box_coords[1], box_coords[0] + box_coords[2], box_coords[1] + box_coords[3]]\n",
    "        \n",
    "        image = id_to_img[box[\"image_id\"]].crop(box_coords)\n",
    "        image_ = Image.new(\"RGB\", image.size, (255, 255, 255))\n",
    "        image_.paste(image, mask=image.split()[3]) \n",
    "\n",
    "        box[\"img\"] = image_\n",
    "        df.loc[box[\"id\"]] = box\n",
    "\n",
    "\n",
    "    df.set_index(\"id\")\n",
    "    return df"
   ]
  },
  {
   "cell_type": "code",
   "execution_count": 6,
   "id": "474ffc15-7c1f-49fc-9ed8-152bd1c48b7f",
   "metadata": {},
   "outputs": [
    {
     "data": {
      "text/html": [
       "<div>\n",
       "<style scoped>\n",
       "    .dataframe tbody tr th:only-of-type {\n",
       "        vertical-align: middle;\n",
       "    }\n",
       "\n",
       "    .dataframe tbody tr th {\n",
       "        vertical-align: top;\n",
       "    }\n",
       "\n",
       "    .dataframe thead th {\n",
       "        text-align: right;\n",
       "    }\n",
       "</style>\n",
       "<table border=\"1\" class=\"dataframe\">\n",
       "  <thead>\n",
       "    <tr style=\"text-align: right;\">\n",
       "      <th></th>\n",
       "      <th>id</th>\n",
       "      <th>image_id</th>\n",
       "      <th>bbox</th>\n",
       "      <th>category_id</th>\n",
       "      <th>img</th>\n",
       "    </tr>\n",
       "  </thead>\n",
       "  <tbody>\n",
       "    <tr>\n",
       "      <th>12</th>\n",
       "      <td>12</td>\n",
       "      <td>4</td>\n",
       "      <td>[665, 448, 206, 174]</td>\n",
       "      <td>8</td>\n",
       "      <td>[[[tensor(0.4353), tensor(0.4627), tensor(0.42...</td>\n",
       "    </tr>\n",
       "    <tr>\n",
       "      <th>13</th>\n",
       "      <td>13</td>\n",
       "      <td>4</td>\n",
       "      <td>[475, 186, 236, 186]</td>\n",
       "      <td>8</td>\n",
       "      <td>[[[tensor(0.3176), tensor(0.3176), tensor(0.31...</td>\n",
       "    </tr>\n",
       "    <tr>\n",
       "      <th>14</th>\n",
       "      <td>14</td>\n",
       "      <td>4</td>\n",
       "      <td>[962, 76, 229, 217]</td>\n",
       "      <td>8</td>\n",
       "      <td>[[[tensor(0.1686), tensor(0.1608), tensor(0.16...</td>\n",
       "    </tr>\n",
       "    <tr>\n",
       "      <th>15</th>\n",
       "      <td>15</td>\n",
       "      <td>4</td>\n",
       "      <td>[778, 250, 163, 135]</td>\n",
       "      <td>8</td>\n",
       "      <td>[[[tensor(0.3412), tensor(0.3412), tensor(0.34...</td>\n",
       "    </tr>\n",
       "    <tr>\n",
       "      <th>16</th>\n",
       "      <td>16</td>\n",
       "      <td>4</td>\n",
       "      <td>[184, 377, 244, 194]</td>\n",
       "      <td>8</td>\n",
       "      <td>[[[tensor(0.2314), tensor(0.2275), tensor(0.22...</td>\n",
       "    </tr>\n",
       "  </tbody>\n",
       "</table>\n",
       "</div>"
      ],
      "text/plain": [
       "    id  image_id                  bbox  category_id  \\\n",
       "12  12         4  [665, 448, 206, 174]            8   \n",
       "13  13         4  [475, 186, 236, 186]            8   \n",
       "14  14         4   [962, 76, 229, 217]            8   \n",
       "15  15         4  [778, 250, 163, 135]            8   \n",
       "16  16         4  [184, 377, 244, 194]            8   \n",
       "\n",
       "                                                  img  \n",
       "12  [[[tensor(0.4353), tensor(0.4627), tensor(0.42...  \n",
       "13  [[[tensor(0.3176), tensor(0.3176), tensor(0.31...  \n",
       "14  [[[tensor(0.1686), tensor(0.1608), tensor(0.16...  \n",
       "15  [[[tensor(0.3412), tensor(0.3412), tensor(0.34...  \n",
       "16  [[[tensor(0.2314), tensor(0.2275), tensor(0.22...  "
      ]
     },
     "execution_count": 6,
     "metadata": {},
     "output_type": "execute_result"
    }
   ],
   "source": [
    "with open(\"../public_dataset/reference_images_part1.json\") as f:\n",
    "    ref_json = json.load(f)\n",
    "\n",
    "dir_str = \"../public_dataset/reference_images_part1\"\n",
    "df = read_in_data(dir_str, ref_json)\n",
    "df.head()"
   ]
  },
  {
   "cell_type": "code",
   "execution_count": 4,
   "id": "0bc18912-bc94-4498-943c-cbde88732795",
   "metadata": {},
   "outputs": [],
   "source": [
    "# h_max = 0\n",
    "# w_max = 0\n",
    "\n",
    "# for img in df.img:\n",
    "#     h,w = img.size\n",
    "#     h_max = max(h, h_max)\n",
    "#     w_max = max(w, w_max)\n",
    "    \n",
    "# print(h_max, w_max)"
   ]
  },
  {
   "cell_type": "code",
   "execution_count": null,
   "id": "613731e6-c0e0-42d2-951b-8ff6087789d8",
   "metadata": {},
   "outputs": [],
   "source": []
  },
  {
   "cell_type": "code",
   "execution_count": null,
   "id": "eac1b9b1-9d94-466c-855e-91ccbc9d686a",
   "metadata": {},
   "outputs": [],
   "source": []
  }
 ],
 "metadata": {
  "kernelspec": {
   "display_name": "KNUM hackathon",
   "language": "python",
   "name": "myenv"
  },
  "language_info": {
   "codemirror_mode": {
    "name": "ipython",
    "version": 3
   },
   "file_extension": ".py",
   "mimetype": "text/x-python",
   "name": "python",
   "nbconvert_exporter": "python",
   "pygments_lexer": "ipython3",
   "version": "3.8.10"
  }
 },
 "nbformat": 4,
 "nbformat_minor": 5
}
