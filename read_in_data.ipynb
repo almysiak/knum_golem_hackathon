{
 "cells": [
  {
   "cell_type": "code",
   "execution_count": 1,
   "id": "2b0cf2e3-fa4b-4aaa-9c18-c9fee208111a",
   "metadata": {},
   "outputs": [],
   "source": [
    "import torch\n",
    "from torchvision import transforms\n",
    "from PIL import Image\n",
    "import os\n",
    "import pandas as pd\n",
    "import json"
   ]
  },
  {
   "cell_type": "code",
   "execution_count": 2,
   "id": "3714f436-ac11-49e7-a3e0-f4bcc5c1f04e",
   "metadata": {},
   "outputs": [],
   "source": [
    "with open(\"../public_dataset/reference_images_part1.json\") as f:\n",
    "    ref_json = json.load(f)"
   ]
  },
  {
   "cell_type": "code",
   "execution_count": 3,
   "id": "d223a10e-8516-4aa9-86d2-5e7ff1395232",
   "metadata": {},
   "outputs": [
    {
     "ename": "ValueError",
     "evalue": "Coordinate 'right' is less than 'left'",
     "output_type": "error",
     "traceback": [
      "\u001b[0;31m---------------------------------------------------------------------------\u001b[0m",
      "\u001b[0;31mValueError\u001b[0m                                Traceback (most recent call last)",
      "Input \u001b[0;32mIn [3]\u001b[0m, in \u001b[0;36m<cell line: 11>\u001b[0;34m()\u001b[0m\n\u001b[1;32m      9\u001b[0m     id_to_img[line[\u001b[38;5;124m\"\u001b[39m\u001b[38;5;124mid\u001b[39m\u001b[38;5;124m\"\u001b[39m]] \u001b[38;5;241m=\u001b[39m img\n\u001b[1;32m     11\u001b[0m \u001b[38;5;28;01mfor\u001b[39;00m box \u001b[38;5;129;01min\u001b[39;00m ref_json[\u001b[38;5;124m\"\u001b[39m\u001b[38;5;124mannotations\u001b[39m\u001b[38;5;124m\"\u001b[39m]:\n\u001b[0;32m---> 12\u001b[0m     box[\u001b[38;5;124m\"\u001b[39m\u001b[38;5;124mimg\u001b[39m\u001b[38;5;124m\"\u001b[39m] \u001b[38;5;241m=\u001b[39m \u001b[43mid_to_img\u001b[49m\u001b[43m[\u001b[49m\u001b[43mbox\u001b[49m\u001b[43m[\u001b[49m\u001b[38;5;124;43m\"\u001b[39;49m\u001b[38;5;124;43mimage_id\u001b[39;49m\u001b[38;5;124;43m\"\u001b[39;49m\u001b[43m]\u001b[49m\u001b[43m]\u001b[49m\u001b[38;5;241;43m.\u001b[39;49m\u001b[43mcrop\u001b[49m\u001b[43m(\u001b[49m\u001b[43mbox\u001b[49m\u001b[43m[\u001b[49m\u001b[38;5;124;43m\"\u001b[39;49m\u001b[38;5;124;43mbbox\u001b[39;49m\u001b[38;5;124;43m\"\u001b[39;49m\u001b[43m]\u001b[49m\u001b[43m)\u001b[49m\n\u001b[1;32m     13\u001b[0m     df\u001b[38;5;241m.\u001b[39mappend(box)\n\u001b[1;32m     15\u001b[0m df\u001b[38;5;241m.\u001b[39mset_index(\u001b[38;5;124m\"\u001b[39m\u001b[38;5;124mid\u001b[39m\u001b[38;5;124m\"\u001b[39m)\n",
      "File \u001b[0;32m~/Documents/hackathon/knum_venv/lib/python3.8/site-packages/PIL/Image.py:1204\u001b[0m, in \u001b[0;36mImage.crop\u001b[0;34m(self, box)\u001b[0m\n\u001b[1;32m   1201\u001b[0m     \u001b[38;5;28;01mreturn\u001b[39;00m \u001b[38;5;28mself\u001b[39m\u001b[38;5;241m.\u001b[39mcopy()\n\u001b[1;32m   1203\u001b[0m \u001b[38;5;28;01mif\u001b[39;00m box[\u001b[38;5;241m2\u001b[39m] \u001b[38;5;241m<\u001b[39m box[\u001b[38;5;241m0\u001b[39m]:\n\u001b[0;32m-> 1204\u001b[0m     \u001b[38;5;28;01mraise\u001b[39;00m \u001b[38;5;167;01mValueError\u001b[39;00m(\u001b[38;5;124m\"\u001b[39m\u001b[38;5;124mCoordinate \u001b[39m\u001b[38;5;124m'\u001b[39m\u001b[38;5;124mright\u001b[39m\u001b[38;5;124m'\u001b[39m\u001b[38;5;124m is less than \u001b[39m\u001b[38;5;124m'\u001b[39m\u001b[38;5;124mleft\u001b[39m\u001b[38;5;124m'\u001b[39m\u001b[38;5;124m\"\u001b[39m)\n\u001b[1;32m   1205\u001b[0m \u001b[38;5;28;01melif\u001b[39;00m box[\u001b[38;5;241m3\u001b[39m] \u001b[38;5;241m<\u001b[39m box[\u001b[38;5;241m1\u001b[39m]:\n\u001b[1;32m   1206\u001b[0m     \u001b[38;5;28;01mraise\u001b[39;00m \u001b[38;5;167;01mValueError\u001b[39;00m(\u001b[38;5;124m\"\u001b[39m\u001b[38;5;124mCoordinate \u001b[39m\u001b[38;5;124m'\u001b[39m\u001b[38;5;124mlower\u001b[39m\u001b[38;5;124m'\u001b[39m\u001b[38;5;124m is less than \u001b[39m\u001b[38;5;124m'\u001b[39m\u001b[38;5;124mupper\u001b[39m\u001b[38;5;124m'\u001b[39m\u001b[38;5;124m\"\u001b[39m)\n",
      "\u001b[0;31mValueError\u001b[0m: Coordinate 'right' is less than 'left'"
     ]
    }
   ],
   "source": [
    "id_to_img = {}\n",
    "df = pd.DataFrame()\n",
    "dir_str = \"../public_dataset/reference_images_part1\"\n",
    "\n",
    "\n",
    "for line in ref_json[\"images\"]:\n",
    "    filename = line[\"file_name\"]\n",
    "    img = Image.open(dir_str + \"/\" + filename)\n",
    "    id_to_img[line[\"id\"]] = img\n",
    "\n",
    "for box in ref_json[\"annotations\"]:\n",
    "    box[\"img\"] = id_to_img[box[\"image_id\"]].crop(box[\"bbox\"])\n",
    "    df.append(box)\n",
    "                           \n",
    "df.set_index(\"id\")"
   ]
  },
  {
   "cell_type": "code",
   "execution_count": null,
   "id": "96ad1dac-7941-4bbf-9890-05cf66dacc62",
   "metadata": {},
   "outputs": [],
   "source": [
    "print(ref_json.keys())"
   ]
  },
  {
   "cell_type": "code",
   "execution_count": null,
   "id": "63f0b8a8-aaef-4844-85fe-ffff03cdda91",
   "metadata": {},
   "outputs": [],
   "source": [
    "print(ref_json[\"images\"])"
   ]
  },
  {
   "cell_type": "code",
   "execution_count": null,
   "id": "d6bbd10d-217a-41c0-9bc8-f7a8096199b8",
   "metadata": {},
   "outputs": [],
   "source": [
    "print(ref_json[\"categories\"])"
   ]
  },
  {
   "cell_type": "code",
   "execution_count": null,
   "id": "60d6a91b-5a3b-434e-8e45-8bc99ebd2f6f",
   "metadata": {},
   "outputs": [],
   "source": [
    "print(ref_json[\"annotations\"])"
   ]
  },
  {
   "cell_type": "code",
   "execution_count": null,
   "id": "474ffc15-7c1f-49fc-9ed8-152bd1c48b7f",
   "metadata": {},
   "outputs": [],
   "source": []
  }
 ],
 "metadata": {
  "kernelspec": {
   "display_name": "KNUM hackathon",
   "language": "python",
   "name": "myenv"
  },
  "language_info": {
   "codemirror_mode": {
    "name": "ipython",
    "version": 3
   },
   "file_extension": ".py",
   "mimetype": "text/x-python",
   "name": "python",
   "nbconvert_exporter": "python",
   "pygments_lexer": "ipython3",
   "version": "3.8.10"
  }
 },
 "nbformat": 4,
 "nbformat_minor": 5
}
