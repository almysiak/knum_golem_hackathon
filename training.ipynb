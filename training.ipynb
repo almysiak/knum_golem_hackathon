{
 "cells": [
  {
   "cell_type": "markdown",
   "metadata": {},
   "source": [
    "# Training"
   ]
  },
  {
   "cell_type": "code",
   "execution_count": 1,
   "metadata": {},
   "outputs": [],
   "source": [
    "import torch\n",
    "import random\n",
    "import numpy as np\n",
    "\n",
    "# from torchvision import transforms\n",
    "from PIL import Image\n",
    "import os\n",
    "import pandas as pd\n",
    "import json\n",
    "\n",
    "from matplotlib import pyplot as plt\n",
    "\n",
    "from ipynb.fs.full.read_in_data import read_in_data\n",
    "\n",
    "from transforms import train_transforms, val_transforms\n",
    "from dataset import ContrastiveLearningDataset, SimpleDataset"
   ]
  },
  {
   "cell_type": "markdown",
   "metadata": {},
   "source": [
    "## Loading data"
   ]
  },
  {
   "cell_type": "code",
   "execution_count": 2,
   "metadata": {},
   "outputs": [
    {
     "data": {
      "text/html": [
       "<div>\n",
       "<style scoped>\n",
       "    .dataframe tbody tr th:only-of-type {\n",
       "        vertical-align: middle;\n",
       "    }\n",
       "\n",
       "    .dataframe tbody tr th {\n",
       "        vertical-align: top;\n",
       "    }\n",
       "\n",
       "    .dataframe thead th {\n",
       "        text-align: right;\n",
       "    }\n",
       "</style>\n",
       "<table border=\"1\" class=\"dataframe\">\n",
       "  <thead>\n",
       "    <tr style=\"text-align: right;\">\n",
       "      <th></th>\n",
       "      <th>id</th>\n",
       "      <th>image_id</th>\n",
       "      <th>bbox</th>\n",
       "      <th>category_id</th>\n",
       "      <th>img</th>\n",
       "    </tr>\n",
       "  </thead>\n",
       "  <tbody>\n",
       "    <tr>\n",
       "      <th>0</th>\n",
       "      <td>155</td>\n",
       "      <td>33</td>\n",
       "      <td>[116, 97, 411, 126]</td>\n",
       "      <td>1</td>\n",
       "      <td>&lt;PIL.Image.Image image mode=RGB size=411x126 a...</td>\n",
       "    </tr>\n",
       "    <tr>\n",
       "      <th>1</th>\n",
       "      <td>33</td>\n",
       "      <td>6</td>\n",
       "      <td>[573, 246, 164, 298]</td>\n",
       "      <td>1</td>\n",
       "      <td>&lt;PIL.Image.Image image mode=RGB size=164x298 a...</td>\n",
       "    </tr>\n",
       "    <tr>\n",
       "      <th>2</th>\n",
       "      <td>32</td>\n",
       "      <td>6</td>\n",
       "      <td>[114, 269, 363, 223]</td>\n",
       "      <td>1</td>\n",
       "      <td>&lt;PIL.Image.Image image mode=RGB size=363x223 a...</td>\n",
       "    </tr>\n",
       "    <tr>\n",
       "      <th>3</th>\n",
       "      <td>30</td>\n",
       "      <td>6</td>\n",
       "      <td>[622, 218, 374, 220]</td>\n",
       "      <td>1</td>\n",
       "      <td>&lt;PIL.Image.Image image mode=RGB size=374x220 a...</td>\n",
       "    </tr>\n",
       "    <tr>\n",
       "      <th>4</th>\n",
       "      <td>29</td>\n",
       "      <td>6</td>\n",
       "      <td>[743, 486, 354, 132]</td>\n",
       "      <td>1</td>\n",
       "      <td>&lt;PIL.Image.Image image mode=RGB size=354x132 a...</td>\n",
       "    </tr>\n",
       "  </tbody>\n",
       "</table>\n",
       "</div>"
      ],
      "text/plain": [
       "    id image_id                  bbox category_id  \\\n",
       "0  155       33   [116, 97, 411, 126]           1   \n",
       "1   33        6  [573, 246, 164, 298]           1   \n",
       "2   32        6  [114, 269, 363, 223]           1   \n",
       "3   30        6  [622, 218, 374, 220]           1   \n",
       "4   29        6  [743, 486, 354, 132]           1   \n",
       "\n",
       "                                                 img  \n",
       "0  <PIL.Image.Image image mode=RGB size=411x126 a...  \n",
       "1  <PIL.Image.Image image mode=RGB size=164x298 a...  \n",
       "2  <PIL.Image.Image image mode=RGB size=363x223 a...  \n",
       "3  <PIL.Image.Image image mode=RGB size=374x220 a...  \n",
       "4  <PIL.Image.Image image mode=RGB size=354x132 a...  "
      ]
     },
     "execution_count": 2,
     "metadata": {},
     "output_type": "execute_result"
    }
   ],
   "source": [
    "with open(\"../public_dataset/reference_images_part1.json\") as f:\n",
    "    ref_json = json.load(f)\n",
    "\n",
    "dir_str = \"../public_dataset/reference_images_part1\"\n",
    "df = read_in_data(dir_str, ref_json)\n",
    "\n",
    "df = df.sort_values('category_id')\n",
    "df = df.reset_index(drop=True)\n",
    "df.head()"
   ]
  },
  {
   "cell_type": "code",
   "execution_count": 3,
   "metadata": {},
   "outputs": [],
   "source": [
    "from torchvision.transforms import transforms as T"
   ]
  },
  {
   "cell_type": "code",
   "execution_count": 4,
   "metadata": {},
   "outputs": [
    {
     "name": "stdout",
     "output_type": "stream",
     "text": [
      "1\n",
      "torch.Size([3, 224, 224])\n"
     ]
    },
    {
     "data": {
      "text/plain": [
       "<matplotlib.image.AxesImage at 0x2755d8ab250>"
      ]
     },
     "execution_count": 4,
     "metadata": {},
     "output_type": "execute_result"
    },
    {
     "data": {
      "image/png": "[encoded data removed]",
      "text/plain": [
       "<Figure size 432x288 with 1 Axes>"
      ]
     },
     "metadata": {
      "needs_background": "light"
     },
     "output_type": "display_data"
    }
   ],
   "source": [
    "id = 1\n",
    "img = df['img'][id]\n",
    "print(df['category_id'][id])\n",
    "\n",
    "img = train_transforms(img)\n",
    "\n",
    "print(img.shape)\n",
    "\n",
    "plt.imshow(img.permute(1, 2, 0))"
   ]
  },
  {
   "cell_type": "code",
   "execution_count": 5,
   "metadata": {},
   "outputs": [],
   "source": [
    "images = df['img']\n",
    "labels = df['category_id']\n",
    "\n",
    "val_labels = [4, 10]\n",
    "val_ids = ~labels.isin(val_labels) # TODO\n",
    "\n",
    "val_images = images[val_ids].reset_index(drop=True)\n",
    "val_labels = labels[val_ids].reset_index(drop=True)\n",
    "\n",
    "train_ids = ~val_ids\n",
    "\n",
    "train_images = images[train_ids].reset_index(drop=True)\n",
    "train_labels = labels[train_ids].reset_index(drop=True)"
   ]
  },
  {
   "cell_type": "code",
   "execution_count": 6,
   "metadata": {},
   "outputs": [],
   "source": [
    "train_dataset = ContrastiveLearningDataset(train_images, train_labels, train_transforms)\n",
    "val_dataset = SimpleDataset(train_images, train_labels, val_transforms)"
   ]
  },
  {
   "cell_type": "code",
   "execution_count": 7,
   "metadata": {},
   "outputs": [
    {
     "name": "stdout",
     "output_type": "stream",
     "text": [
      "tensor(0.2858) tensor(0.7608) tensor(0.)\n"
     ]
    }
   ],
   "source": [
    "id_ = random.randrange(0, len(train_dataset))\n",
    "\n",
    "image_1, image_2, sign, weight = train_dataset[id_]\n",
    "\n",
    "# f, axarr = plt.subplots(1,2) \n",
    "\n",
    "# axarr[0].imshow(image_1.permute(1, 2, 0))\n",
    "# axarr[1].imshow(image_2.permute(1, 2, 0))\n",
    "\n",
    "# sign, weight\n",
    "\n",
    "print(image_1.mean(), image_1.max(), image_1.min())"
   ]
  },
  {
   "cell_type": "code",
   "execution_count": 8,
   "metadata": {},
   "outputs": [
    {
     "name": "stdout",
     "output_type": "stream",
     "text": [
      "DEVICE: cuda\n"
     ]
    }
   ],
   "source": [
    "DEVICE = 'cuda' if torch.cuda.is_available() else 'cpu'\n",
    "print(f\"DEVICE: {DEVICE}\")"
   ]
  },
  {
   "cell_type": "code",
   "execution_count": 9,
   "metadata": {},
   "outputs": [],
   "source": [
    "BATCH_SIZE = 8\n",
    "\n",
    "train_loader = torch.utils.data.DataLoader(\n",
    "    train_dataset,\n",
    "    BATCH_SIZE, \n",
    "    shuffle=True, \n",
    "    num_workers=0,\n",
    "    pin_memory=True,\n",
    ")"
   ]
  },
  {
   "cell_type": "markdown",
   "metadata": {},
   "source": [
    "## Training loop"
   ]
  },
  {
   "cell_type": "code",
   "execution_count": 10,
   "metadata": {},
   "outputs": [],
   "source": [
    "EPOCHS = 10"
   ]
  },
  {
   "cell_type": "code",
   "execution_count": 11,
   "metadata": {
    "tags": []
   },
   "outputs": [],
   "source": [
    "from model import ImageEmbeddingModel"
   ]
  },
  {
   "cell_type": "code",
   "execution_count": 40,
   "metadata": {},
   "outputs": [
    {
     "name": "stdout",
     "output_type": "stream",
     "text": [
      "Loaded pretrained weights for efficientnet-b0\n"
     ]
    }
   ],
   "source": [
    "model = ImageEmbeddingModel(out_dim=128, efficientnet_model_name=\"efficientnet-b0\").to(device=DEVICE)\n",
    "optimizer = torch.optim.Adam(model.parameters())"
   ]
  },
  {
   "cell_type": "code",
   "execution_count": 34,
   "metadata": {},
   "outputs": [],
   "source": [
    "from losses import ContrastiveLoss, CosineSimilarityLoss\n",
    "\n",
    "loss_function = CosineSimilarityLoss()\n",
    "# loss_function = ContrastiveLoss(eps=8.0)\n",
    "# cos = torch.nn.CosineSimilarity(dim=1, eps=1e-6)\n",
    "\n",
    "# def contrastive_learning_loss(v_1, v_2, weight, sign):\n",
    "#     cos_sim = cos(v_1, v_2)\n",
    "#     loss = - weight * cos_sim * sign\n",
    "#     return loss.mean()\n",
    "\n"
   ]
  },
  {
   "cell_type": "code",
   "execution_count": 42,
   "metadata": {},
   "outputs": [],
   "source": [
    "from sklearn.decomposition import PCA\n",
    "\n",
    "def validate(model, dataset):\n",
    "    embeddings = []\n",
    "    labels = []\n",
    "    for i in range(len(dataset)):\n",
    "        image, label = dataset[i]\n",
    "        image = image.to(device=DEVICE).unsqueeze(0)\n",
    "        label = label\n",
    "        emb = model(image)\n",
    "        embeddings.append(emb[0].detach().cpu().numpy())\n",
    "        labels.append(label)\n",
    "\n",
    "    emb4lab_dict = {}\n",
    "    for e, l in zip(embeddings, labels):\n",
    "        if l not in emb4lab_dict.keys():\n",
    "            emb4lab_dict[l] = [e]\n",
    "        else:\n",
    "            emb4lab_dict[l].append(e)\n",
    "    for l in emb4lab_dict.keys():\n",
    "        emb4lab_dict[l] = np.mean(np.array(emb4lab_dict[l]), axis=0)\n",
    "    \n",
    "    lbl_dsts = {}\n",
    "    for e, l in zip(embeddings, labels):\n",
    "        dst = np.sum(np.abs(e - emb4lab_dict[l]))\n",
    "        if l not in lbl_dsts.keys():\n",
    "            lbl_dsts[l] = [dst]\n",
    "        else:\n",
    "            lbl_dsts[l].append(dst)\n",
    "    for l in lbl_dsts.keys():\n",
    "        lbl_dsts[l] = np.mean(np.array(lbl_dsts[l]), axis=0)\n",
    "        print(f\"LABEL: {l} - MEAN DST: {lbl_dsts[l]}\")\n",
    "    \n",
    "    embeddings = np.array(embeddings)\n",
    "    labels = np.array(labels)\n",
    "    \n",
    "    pca = PCA()\n",
    "    pca.fit(embeddings)\n",
    "    emb2d = pca.transform(embeddings)\n",
    "    plt.scatter(emb2d[:,0], emb2d[:,1], c=labels)\n",
    "    plt.show()"
   ]
  },
  {
   "cell_type": "code",
   "execution_count": 43,
   "metadata": {},
   "outputs": [
    {
     "name": "stdout",
     "output_type": "stream",
     "text": [
      "LABEL: 4 - MEAN DST: 8.018440246582031\n",
      "LABEL: 10 - MEAN DST: 7.617514610290527\n"
     ]
    },
    {
     "data": {
      "image/png": "[encoded data removed]",
      "text/plain": [
       "<Figure size 432x288 with 1 Axes>"
      ]
     },
     "metadata": {
      "needs_background": "light"
     },
     "output_type": "display_data"
    },
    {
     "name": "stdout",
     "output_type": "stream",
     "text": [
      "i: 0: 0.0038426433586075154\n"
     ]
    }
   ],
   "source": [
    "validate(model, val_dataset)\n",
    "for epoch in range(EPOCHS):\n",
    "    losses = []\n",
    "    for i, data in enumerate(train_loader, 0):\n",
    "        image_1, image_2, sign, weight = data\n",
    "        image_1 = image_1.to(device=DEVICE)\n",
    "        image_2 = image_2.to(device=DEVICE)\n",
    "        sign = sign.to(device=DEVICE)\n",
    "        weight = weight.to(device=DEVICE)\n",
    "\n",
    "        v_1 = model(image_1)\n",
    "        v_2 = model(image_2)\n",
    "        \n",
    "        loss = loss_function(v_1, v_2, sign, weight=weight)\n",
    "        loss.backward()\n",
    "        optimizer.step()\n",
    "        losses.append(loss.cpu().item())\n",
    "        if i % 10 == 0:\n",
    "            print(f\"i: {i}: {loss}\")\n",
    "        \n",
    "    total_loss = np.mean(losses)\n",
    "    print(f\"Epoch: {epoch + 1}/{EPOCHS}: Loss: {total_loss}\")\n",
    "    validate(model, val_dataset)\n",
    "        # YOUR CODE HERE\n",
    "        \n",
    "        # TODO: walidacja, wypisywanie lossów itd\n",
    "        # END YOUR CODE"
   ]
  },
  {
   "cell_type": "code",
   "execution_count": null,
   "metadata": {},
   "outputs": [],
   "source": []
  },
  {
   "cell_type": "code",
   "execution_count": null,
   "metadata": {},
   "outputs": [],
   "source": []
  }
 ],
 "metadata": {
  "interpreter": {
   "hash": "95a22eaad15357b8581a3e85dc7deb44b392b83f2a0c98c7572069d11874febe"
  },
  "kernelspec": {
   "display_name": "KNUM hackathon",
   "language": "python",
   "name": "myenv"
  },
  "language_info": {
   "codemirror_mode": {
    "name": "ipython",
    "version": 3
   },
   "file_extension": ".py",
   "mimetype": "text/x-python",
   "name": "python",
   "nbconvert_exporter": "python",
   "pygments_lexer": "ipython3",
   "version": "3.8.10"
  }
 },
 "nbformat": 4,
 "nbformat_minor": 4
}
